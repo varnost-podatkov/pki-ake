{
 "cells": [
  {
   "cell_type": "code",
   "execution_count": 1,
   "id": "cb61a590-00af-41fb-b5d3-3b51813ab5c5",
   "metadata": {
    "tags": []
   },
   "outputs": [],
   "source": [
    "from cryptography import x509\n",
    "from cryptography.hazmat.primitives import serialization\n",
    "from cryptography.hazmat.primitives.asymmetric import rsa\n",
    "from cryptography.hazmat.primitives import hashes\n",
    "import datetime"
   ]
  },
  {
   "cell_type": "code",
   "execution_count": 26,
   "id": "f3fa92e5-47b2-45b5-92b9-682924e333e5",
   "metadata": {},
   "outputs": [],
   "source": [
    "def create_ca(common_name: str):\n",
    "    private_key_ca = rsa.generate_private_key(public_exponent=65537, key_size=2048)\n",
    "    \n",
    "    x509_common_name = x509.NameAttribute(x509.NameOID.COMMON_NAME, common_name)\n",
    "    \n",
    "    subject_name_ca = x509.Name([x509_common_name])\n",
    "    issuer_ca = x509.Name([x509_common_name])\n",
    "    \n",
    "    cert_ca = x509.CertificateBuilder() \\\n",
    "        .subject_name(subject_name_ca) \\\n",
    "        .issuer_name(issuer_ca) \\\n",
    "        .public_key(private_key_ca.public_key()) \\\n",
    "        .serial_number(x509.random_serial_number()) \\\n",
    "        .not_valid_before(datetime.datetime.utcnow()) \\\n",
    "        .not_valid_after(datetime.datetime.utcnow() + datetime.timedelta(days=3650)) \\\n",
    "        .sign(private_key_ca, hashes.SHA256())\n",
    "\n",
    "    return cert_ca, private_key_ca\n",
    "\n",
    "\n",
    "def create_csr(common_name: str, email: str=None):\n",
    "    private_key_csr = rsa.generate_private_key(public_exponent=65537, key_size=2048)\n",
    "\n",
    "    csr_builder = x509.CertificateSigningRequestBuilder()\n",
    "    \n",
    "    subject_name_csr = x509.Name([x509.NameAttribute(x509.NameOID.COMMON_NAME, common_name)])\n",
    "    csr_builder = csr_builder.subject_name(subject_name_csr)\n",
    "\n",
    "    if email:\n",
    "        san_email = x509.SubjectAlternativeName([x509.RFC822Name(email)])\n",
    "        csr_builder = csr_builder.add_extension(san_email)\n",
    "    \n",
    "    csr = csr_builder.sign(private_key_csr, hashes.SHA256())\n",
    "\n",
    "    return csr, private_key_csr\n",
    "\n",
    "\n",
    "def issue_certificate(cert_ca, private_key_ca, csr):\n",
    "    cert_signed = x509.CertificateBuilder() \\\n",
    "        .subject_name(csr.subject) \\\n",
    "        .issuer_name(cert_ca.subject) \\\n",
    "        .public_key(csr.public_key()) \\\n",
    "        .serial_number(x509.random_serial_number()) \\\n",
    "        .not_valid_before(datetime.datetime.utcnow()) \\\n",
    "        .not_valid_after(datetime.datetime.utcnow() + datetime.timedelta(days=365)) \\\n",
    "        .sign(private_key_ca, hashes.SHA256())\n",
    "\n",
    "    return cert_signed\n",
    "\n",
    "\n",
    "def save_private_key(private_key, filename):\n",
    "    with open(filename, \"wb\") as f:\n",
    "        f.write(private_key.private_bytes(\n",
    "            encoding=serialization.Encoding.PEM,\n",
    "            format=serialization.PrivateFormat.TraditionalOpenSSL,\n",
    "            encryption_algorithm=serialization.NoEncryption()\n",
    "        ))\n",
    "\n",
    "\n",
    "def save_certificate(cert, filename):\n",
    "    with open(filename, \"wb\") as f:\n",
    "        f.write(cert.public_bytes(serialization.Encoding.PEM))    "
   ]
  }
 ],
 "metadata": {
  "kernelspec": {
   "display_name": "Python 3 (ipykernel)",
   "language": "python",
   "name": "python3"
  },
  "language_info": {
   "codemirror_mode": {
    "name": "ipython",
    "version": 3
   },
   "file_extension": ".py",
   "mimetype": "text/x-python",
   "name": "python",
   "nbconvert_exporter": "python",
   "pygments_lexer": "ipython3",
   "version": "3.11.7"
  }
 },
 "nbformat": 4,
 "nbformat_minor": 5
}
